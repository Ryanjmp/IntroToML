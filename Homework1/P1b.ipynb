{
 "cells": [
  {
   "cell_type": "code",
   "execution_count": 21,
   "id": "829adc40-28dd-468d-b7da-173f1ae621c6",
   "metadata": {
    "tags": []
   },
   "outputs": [],
   "source": [
    "# Ryan Picariello - 822856548 - Intro to ML Homework 1 part 1b\n",
    "import numpy as np\n",
    "import pandas as pd\n",
    "import matplotlib.pyplot as plt\n",
    "import seaborn as sns"
   ]
  },
  {
   "cell_type": "code",
   "execution_count": 22,
   "id": "eaf6e3f1-0bcb-4d0c-9658-81bbe64b708a",
   "metadata": {
    "tags": []
   },
   "outputs": [],
   "source": [
    "df = pd.read_csv('C:/Users/Ryanj/Downloads/Housing.csv')\n",
    "df.head() # To get first n rows from the dataset default value of n is 5\n",
    "M=len(df)"
   ]
  },
  {
   "cell_type": "code",
   "execution_count": 23,
   "id": "ce9936c4-6ed8-4dae-8848-c819ead399d5",
   "metadata": {},
   "outputs": [
    {
     "data": {
      "text/html": [
       "<div>\n",
       "<style scoped>\n",
       "    .dataframe tbody tr th:only-of-type {\n",
       "        vertical-align: middle;\n",
       "    }\n",
       "\n",
       "    .dataframe tbody tr th {\n",
       "        vertical-align: top;\n",
       "    }\n",
       "\n",
       "    .dataframe thead th {\n",
       "        text-align: right;\n",
       "    }\n",
       "</style>\n",
       "<table border=\"1\" class=\"dataframe\">\n",
       "  <thead>\n",
       "    <tr style=\"text-align: right;\">\n",
       "      <th></th>\n",
       "      <th>price</th>\n",
       "      <th>area</th>\n",
       "      <th>bedrooms</th>\n",
       "      <th>bathrooms</th>\n",
       "      <th>stories</th>\n",
       "      <th>mainroad</th>\n",
       "      <th>guestroom</th>\n",
       "      <th>basement</th>\n",
       "      <th>hotwaterheating</th>\n",
       "      <th>airconditioning</th>\n",
       "      <th>parking</th>\n",
       "      <th>prefarea</th>\n",
       "      <th>furnishingstatus</th>\n",
       "    </tr>\n",
       "  </thead>\n",
       "  <tbody>\n",
       "    <tr>\n",
       "      <th>0</th>\n",
       "      <td>13300000</td>\n",
       "      <td>7420</td>\n",
       "      <td>4</td>\n",
       "      <td>2</td>\n",
       "      <td>3</td>\n",
       "      <td>yes</td>\n",
       "      <td>no</td>\n",
       "      <td>no</td>\n",
       "      <td>no</td>\n",
       "      <td>yes</td>\n",
       "      <td>2</td>\n",
       "      <td>yes</td>\n",
       "      <td>furnished</td>\n",
       "    </tr>\n",
       "    <tr>\n",
       "      <th>1</th>\n",
       "      <td>12250000</td>\n",
       "      <td>8960</td>\n",
       "      <td>4</td>\n",
       "      <td>4</td>\n",
       "      <td>4</td>\n",
       "      <td>yes</td>\n",
       "      <td>no</td>\n",
       "      <td>no</td>\n",
       "      <td>no</td>\n",
       "      <td>yes</td>\n",
       "      <td>3</td>\n",
       "      <td>no</td>\n",
       "      <td>furnished</td>\n",
       "    </tr>\n",
       "    <tr>\n",
       "      <th>2</th>\n",
       "      <td>12250000</td>\n",
       "      <td>9960</td>\n",
       "      <td>3</td>\n",
       "      <td>2</td>\n",
       "      <td>2</td>\n",
       "      <td>yes</td>\n",
       "      <td>no</td>\n",
       "      <td>yes</td>\n",
       "      <td>no</td>\n",
       "      <td>no</td>\n",
       "      <td>2</td>\n",
       "      <td>yes</td>\n",
       "      <td>semi-furnished</td>\n",
       "    </tr>\n",
       "    <tr>\n",
       "      <th>3</th>\n",
       "      <td>12215000</td>\n",
       "      <td>7500</td>\n",
       "      <td>4</td>\n",
       "      <td>2</td>\n",
       "      <td>2</td>\n",
       "      <td>yes</td>\n",
       "      <td>no</td>\n",
       "      <td>yes</td>\n",
       "      <td>no</td>\n",
       "      <td>yes</td>\n",
       "      <td>3</td>\n",
       "      <td>yes</td>\n",
       "      <td>furnished</td>\n",
       "    </tr>\n",
       "    <tr>\n",
       "      <th>4</th>\n",
       "      <td>11410000</td>\n",
       "      <td>7420</td>\n",
       "      <td>4</td>\n",
       "      <td>1</td>\n",
       "      <td>2</td>\n",
       "      <td>yes</td>\n",
       "      <td>yes</td>\n",
       "      <td>yes</td>\n",
       "      <td>no</td>\n",
       "      <td>yes</td>\n",
       "      <td>2</td>\n",
       "      <td>no</td>\n",
       "      <td>furnished</td>\n",
       "    </tr>\n",
       "  </tbody>\n",
       "</table>\n",
       "</div>"
      ],
      "text/plain": [
       "      price  area  bedrooms  bathrooms  stories mainroad guestroom basement  \\\n",
       "0  13300000  7420         4          2        3      yes        no       no   \n",
       "1  12250000  8960         4          4        4      yes        no       no   \n",
       "2  12250000  9960         3          2        2      yes        no      yes   \n",
       "3  12215000  7500         4          2        2      yes        no      yes   \n",
       "4  11410000  7420         4          1        2      yes       yes      yes   \n",
       "\n",
       "  hotwaterheating airconditioning  parking prefarea furnishingstatus  \n",
       "0              no             yes        2      yes        furnished  \n",
       "1              no             yes        3       no        furnished  \n",
       "2              no              no        2      yes   semi-furnished  \n",
       "3              no             yes        3      yes        furnished  \n",
       "4              no             yes        2       no        furnished  "
      ]
     },
     "execution_count": 23,
     "metadata": {},
     "output_type": "execute_result"
    }
   ],
   "source": [
    "housing = pd.DataFrame(pd.read_csv('C:/Users/Ryanj/Downloads/Housing.csv'))\n",
    "housing.head()"
   ]
  },
  {
   "cell_type": "code",
   "execution_count": 24,
   "id": "047f9ca3-c981-450b-8a87-2d36cfb11fd9",
   "metadata": {},
   "outputs": [
    {
     "data": {
      "text/html": [
       "<div>\n",
       "<style scoped>\n",
       "    .dataframe tbody tr th:only-of-type {\n",
       "        vertical-align: middle;\n",
       "    }\n",
       "\n",
       "    .dataframe tbody tr th {\n",
       "        vertical-align: top;\n",
       "    }\n",
       "\n",
       "    .dataframe thead th {\n",
       "        text-align: right;\n",
       "    }\n",
       "</style>\n",
       "<table border=\"1\" class=\"dataframe\">\n",
       "  <thead>\n",
       "    <tr style=\"text-align: right;\">\n",
       "      <th></th>\n",
       "      <th>price</th>\n",
       "      <th>area</th>\n",
       "      <th>bedrooms</th>\n",
       "      <th>bathrooms</th>\n",
       "      <th>stories</th>\n",
       "      <th>mainroad</th>\n",
       "      <th>guestroom</th>\n",
       "      <th>basement</th>\n",
       "      <th>hotwaterheating</th>\n",
       "      <th>airconditioning</th>\n",
       "      <th>parking</th>\n",
       "      <th>prefarea</th>\n",
       "      <th>furnishingstatus</th>\n",
       "    </tr>\n",
       "  </thead>\n",
       "  <tbody>\n",
       "    <tr>\n",
       "      <th>0</th>\n",
       "      <td>13300000</td>\n",
       "      <td>7420</td>\n",
       "      <td>4</td>\n",
       "      <td>2</td>\n",
       "      <td>3</td>\n",
       "      <td>1</td>\n",
       "      <td>0</td>\n",
       "      <td>0</td>\n",
       "      <td>0</td>\n",
       "      <td>1</td>\n",
       "      <td>2</td>\n",
       "      <td>1</td>\n",
       "      <td>furnished</td>\n",
       "    </tr>\n",
       "    <tr>\n",
       "      <th>1</th>\n",
       "      <td>12250000</td>\n",
       "      <td>8960</td>\n",
       "      <td>4</td>\n",
       "      <td>4</td>\n",
       "      <td>4</td>\n",
       "      <td>1</td>\n",
       "      <td>0</td>\n",
       "      <td>0</td>\n",
       "      <td>0</td>\n",
       "      <td>1</td>\n",
       "      <td>3</td>\n",
       "      <td>0</td>\n",
       "      <td>furnished</td>\n",
       "    </tr>\n",
       "    <tr>\n",
       "      <th>2</th>\n",
       "      <td>12250000</td>\n",
       "      <td>9960</td>\n",
       "      <td>3</td>\n",
       "      <td>2</td>\n",
       "      <td>2</td>\n",
       "      <td>1</td>\n",
       "      <td>0</td>\n",
       "      <td>1</td>\n",
       "      <td>0</td>\n",
       "      <td>0</td>\n",
       "      <td>2</td>\n",
       "      <td>1</td>\n",
       "      <td>semi-furnished</td>\n",
       "    </tr>\n",
       "    <tr>\n",
       "      <th>3</th>\n",
       "      <td>12215000</td>\n",
       "      <td>7500</td>\n",
       "      <td>4</td>\n",
       "      <td>2</td>\n",
       "      <td>2</td>\n",
       "      <td>1</td>\n",
       "      <td>0</td>\n",
       "      <td>1</td>\n",
       "      <td>0</td>\n",
       "      <td>1</td>\n",
       "      <td>3</td>\n",
       "      <td>1</td>\n",
       "      <td>furnished</td>\n",
       "    </tr>\n",
       "    <tr>\n",
       "      <th>4</th>\n",
       "      <td>11410000</td>\n",
       "      <td>7420</td>\n",
       "      <td>4</td>\n",
       "      <td>1</td>\n",
       "      <td>2</td>\n",
       "      <td>1</td>\n",
       "      <td>1</td>\n",
       "      <td>1</td>\n",
       "      <td>0</td>\n",
       "      <td>1</td>\n",
       "      <td>2</td>\n",
       "      <td>0</td>\n",
       "      <td>furnished</td>\n",
       "    </tr>\n",
       "  </tbody>\n",
       "</table>\n",
       "</div>"
      ],
      "text/plain": [
       "      price  area  bedrooms  bathrooms  stories  mainroad  guestroom  \\\n",
       "0  13300000  7420         4          2        3         1          0   \n",
       "1  12250000  8960         4          4        4         1          0   \n",
       "2  12250000  9960         3          2        2         1          0   \n",
       "3  12215000  7500         4          2        2         1          0   \n",
       "4  11410000  7420         4          1        2         1          1   \n",
       "\n",
       "   basement  hotwaterheating  airconditioning  parking  prefarea  \\\n",
       "0         0                0                1        2         1   \n",
       "1         0                0                1        3         0   \n",
       "2         1                0                0        2         1   \n",
       "3         1                0                1        3         1   \n",
       "4         1                0                1        2         0   \n",
       "\n",
       "  furnishingstatus  \n",
       "0        furnished  \n",
       "1        furnished  \n",
       "2   semi-furnished  \n",
       "3        furnished  \n",
       "4        furnished  "
      ]
     },
     "execution_count": 24,
     "metadata": {},
     "output_type": "execute_result"
    }
   ],
   "source": [
    "# You can see that your dataset has many columns with values as 'Yes' or 'No'.\n",
    "# But in order to fit a regression line, we would need numerical values and not string.\n",
    "# List of variables to map\n",
    "varlist = ['mainroad', 'guestroom', 'basement', 'hotwaterheating', 'airconditioning', 'prefarea']\n",
    "# Defining the map function\n",
    "def binary_map(x):\n",
    " return x.map({'yes': 1, \"no\": 0})\n",
    "# Applying the function to the housing list\n",
    "housing[varlist] = housing[varlist].apply(binary_map)\n",
    "# Check the housing dataframe now\n",
    "housing.head()"
   ]
  },
  {
   "cell_type": "code",
   "execution_count": 25,
   "id": "6ed97d64-9054-44ff-ae04-c96b1fdba4d9",
   "metadata": {},
   "outputs": [],
   "source": [
    "#Splitting the Data into Training and Testing Sets\n",
    "from sklearn.model_selection import train_test_split\n",
    "# We specify this so that the train and test data set always have the same rows, respec\n",
    "np.random.seed(0)\n",
    "df_train, df_test = train_test_split(housing, train_size = 0.7, test_size = 0.3, random_state = np.random)"
   ]
  },
  {
   "cell_type": "code",
   "execution_count": 26,
   "id": "ce268f83-12c1-42c5-8af1-c72c78d78ea8",
   "metadata": {},
   "outputs": [
    {
     "data": {
      "text/html": [
       "<div>\n",
       "<style scoped>\n",
       "    .dataframe tbody tr th:only-of-type {\n",
       "        vertical-align: middle;\n",
       "    }\n",
       "\n",
       "    .dataframe tbody tr th {\n",
       "        vertical-align: top;\n",
       "    }\n",
       "\n",
       "    .dataframe thead th {\n",
       "        text-align: right;\n",
       "    }\n",
       "</style>\n",
       "<table border=\"1\" class=\"dataframe\">\n",
       "  <thead>\n",
       "    <tr style=\"text-align: right;\">\n",
       "      <th></th>\n",
       "      <th>area</th>\n",
       "      <th>bedrooms</th>\n",
       "      <th>bathrooms</th>\n",
       "      <th>mainroad</th>\n",
       "      <th>guestroom</th>\n",
       "      <th>basement</th>\n",
       "      <th>hotwaterheating</th>\n",
       "      <th>airconditioning</th>\n",
       "      <th>parking</th>\n",
       "      <th>prefarea</th>\n",
       "      <th>price</th>\n",
       "    </tr>\n",
       "  </thead>\n",
       "  <tbody>\n",
       "    <tr>\n",
       "      <th>454</th>\n",
       "      <td>4500</td>\n",
       "      <td>3</td>\n",
       "      <td>1</td>\n",
       "      <td>1</td>\n",
       "      <td>0</td>\n",
       "      <td>0</td>\n",
       "      <td>0</td>\n",
       "      <td>1</td>\n",
       "      <td>0</td>\n",
       "      <td>0</td>\n",
       "      <td>3143000</td>\n",
       "    </tr>\n",
       "    <tr>\n",
       "      <th>392</th>\n",
       "      <td>3990</td>\n",
       "      <td>3</td>\n",
       "      <td>1</td>\n",
       "      <td>1</td>\n",
       "      <td>0</td>\n",
       "      <td>0</td>\n",
       "      <td>0</td>\n",
       "      <td>0</td>\n",
       "      <td>0</td>\n",
       "      <td>0</td>\n",
       "      <td>3500000</td>\n",
       "    </tr>\n",
       "    <tr>\n",
       "      <th>231</th>\n",
       "      <td>4320</td>\n",
       "      <td>3</td>\n",
       "      <td>1</td>\n",
       "      <td>1</td>\n",
       "      <td>0</td>\n",
       "      <td>0</td>\n",
       "      <td>0</td>\n",
       "      <td>0</td>\n",
       "      <td>0</td>\n",
       "      <td>1</td>\n",
       "      <td>4690000</td>\n",
       "    </tr>\n",
       "    <tr>\n",
       "      <th>271</th>\n",
       "      <td>1905</td>\n",
       "      <td>5</td>\n",
       "      <td>1</td>\n",
       "      <td>0</td>\n",
       "      <td>0</td>\n",
       "      <td>1</td>\n",
       "      <td>0</td>\n",
       "      <td>0</td>\n",
       "      <td>0</td>\n",
       "      <td>0</td>\n",
       "      <td>4340000</td>\n",
       "    </tr>\n",
       "    <tr>\n",
       "      <th>250</th>\n",
       "      <td>3510</td>\n",
       "      <td>3</td>\n",
       "      <td>1</td>\n",
       "      <td>1</td>\n",
       "      <td>0</td>\n",
       "      <td>0</td>\n",
       "      <td>0</td>\n",
       "      <td>0</td>\n",
       "      <td>0</td>\n",
       "      <td>0</td>\n",
       "      <td>4515000</td>\n",
       "    </tr>\n",
       "  </tbody>\n",
       "</table>\n",
       "</div>"
      ],
      "text/plain": [
       "     area  bedrooms  bathrooms  mainroad  guestroom  basement  \\\n",
       "454  4500         3          1         1          0         0   \n",
       "392  3990         3          1         1          0         0   \n",
       "231  4320         3          1         1          0         0   \n",
       "271  1905         5          1         0          0         1   \n",
       "250  3510         3          1         1          0         0   \n",
       "\n",
       "     hotwaterheating  airconditioning  parking  prefarea    price  \n",
       "454                0                1        0         0  3143000  \n",
       "392                0                0        0         0  3500000  \n",
       "231                0                0        0         1  4690000  \n",
       "271                0                0        0         0  4340000  \n",
       "250                0                0        0         0  4515000  "
      ]
     },
     "execution_count": 26,
     "metadata": {},
     "output_type": "execute_result"
    }
   ],
   "source": [
    "num_vars = ['area', 'bedrooms', 'bathrooms', 'mainroad', 'guestroom', 'basement', 'hotwaterheating', 'airconditioning', 'parking', 'prefarea', 'price']\n",
    "df_Newtrain = df_train[num_vars]\n",
    "df_Newtest = df_test[num_vars]\n",
    "df_Newtrain.head()"
   ]
  },
  {
   "cell_type": "code",
   "execution_count": 27,
   "id": "800afab2-3a8e-42e6-8e4a-a797cf8f2bc5",
   "metadata": {},
   "outputs": [],
   "source": [
    "XTrain = df_Newtrain.values[:,0:10]\n",
    "YTrain = df_Newtrain.values[:,10]\n",
    "\n",
    "XTest = df_Newtest.values[:,0:10]\n",
    "YTest = df_Newtest.values[:,10]"
   ]
  },
  {
   "cell_type": "code",
   "execution_count": 28,
   "id": "5b04cfed-9a77-4fd9-9ad0-d0f08585ba2f",
   "metadata": {},
   "outputs": [],
   "source": [
    "mean = np.ones(XTrain.shape[1])\n",
    "std = np.ones(XTrain.shape[1])\n",
    "for i in range(0, XTrain.shape[1]):\n",
    "    mean[i] = np.mean(XTrain.transpose()[i])\n",
    "    std[i] = np.std(XTrain.transpose()[i])\n",
    "    for j in range(0, XTrain.shape[0]):\n",
    "        XTrain[j][i] = (XTrain[j][i] - mean[i])/std[i]"
   ]
  },
  {
   "cell_type": "code",
   "execution_count": 29,
   "id": "3dd4b175-dd15-47c8-a69e-9ea77c8ba0d4",
   "metadata": {},
   "outputs": [],
   "source": [
    "mean = np.ones(XTest.shape[1])\n",
    "std = np.ones(XTest.shape[1])\n",
    "for i in range(0, XTest.shape[1]):\n",
    "    mean[i] = np.mean(XTest.transpose()[i])\n",
    "    std[i] = np.std(XTest.transpose()[i])\n",
    "    for j in range(0, XTest.shape[0]):\n",
    "        XTest[j][i] = (XTest[j][i] - mean[i])/std[i]"
   ]
  },
  {
   "cell_type": "code",
   "execution_count": 30,
   "id": "72dc2f1b-35fb-4b42-b7b9-ad671078e29d",
   "metadata": {},
   "outputs": [],
   "source": [
    "def compute_cost(X, n, theta):\n",
    "    h = np.ones((X.shape[0],1))\n",
    "    theta = theta.reshape(1,n+1)\n",
    "    for i in range(0,X.shape[0]):\n",
    "        h[i] = float(np.matmul(theta, X[i]))\n",
    "    h = h.reshape(X.shape[0])\n",
    "    return h"
   ]
  },
  {
   "cell_type": "code",
   "execution_count": 31,
   "id": "f3912905-eb04-451f-8b48-f807c0639ffb",
   "metadata": {},
   "outputs": [],
   "source": [
    "def gradient_descent(X, y, theta, alpha, iterations, n, h):\n",
    "    cost = np.ones(iterations)\n",
    "    for i in range(0,iterations):\n",
    "        theta[0] = theta[0] - (alpha/X.shape[0]) * sum(h - y)\n",
    "        for j in range(1,n+1):\n",
    "            theta[j] = theta[j] - (alpha/X.shape[0]) * sum((h-y) * X.transpose()[j])\n",
    "        h = compute_cost(X, n, theta)\n",
    "        cost[i] = (1/X.shape[0]) * 0.5 * sum(np.square(h - y))\n",
    "    theta = theta.reshape(1,n+1)\n",
    "    return theta, cost"
   ]
  },
  {
   "cell_type": "code",
   "execution_count": 32,
   "id": "9f0ea022-13f7-4054-94a8-6d62d8b32ea6",
   "metadata": {},
   "outputs": [],
   "source": [
    "def linear_regression(X, y, alpha, iterations):\n",
    "    n = X.shape[1]\n",
    "    one_column = np.ones((X.shape[0],1))\n",
    "    X = np.concatenate((one_column, X), axis = 1)\n",
    "    theta = np.zeros(n+1)\n",
    "    h = compute_cost(X, n, theta)\n",
    "    theta, cost = gradient_descent(X, y, theta, alpha, iterations, n, h)\n",
    "    return theta, cost"
   ]
  },
  {
   "cell_type": "code",
   "execution_count": 33,
   "id": "b940dbaa-fbd1-4078-8c59-4d0fb2a33bb3",
   "metadata": {},
   "outputs": [],
   "source": [
    "iterations = 500;\n",
    "alpha = 0.1;\n",
    "alpha2 = 0.01"
   ]
  },
  {
   "cell_type": "code",
   "execution_count": 34,
   "id": "da0a5725-bc29-4d56-9180-48891e7ce3d1",
   "metadata": {},
   "outputs": [
    {
     "name": "stdout",
     "output_type": "stream",
     "text": [
      "Final value of theta with an alpha of  0.1  = [[3670731.06244055  551896.57649369  385795.47482823  992491.61099674\n",
      "   406487.69378465  296569.19055127  109169.67597818  340894.17909666\n",
      "  1248570.78075159  254848.24455347  899005.83201632]]\n"
     ]
    }
   ],
   "source": [
    "ThetaTraining, CostTraining = linear_regression(XTrain, YTrain, alpha, iterations)\n",
    "print('Final value of theta with an alpha of ', alpha,' =', ThetaTraining)\n",
    "CostTraining = list(CostTraining)\n",
    "nIterations_Training = [x for x in range(1,(iterations + 1))]"
   ]
  },
  {
   "cell_type": "code",
   "execution_count": 35,
   "id": "5d0a0fa5-fd43-4abf-8122-55e4402fd2b9",
   "metadata": {},
   "outputs": [
    {
     "name": "stdout",
     "output_type": "stream",
     "text": [
      "Final value of theta with an alpha of  0.01  = [[3237989.41217222  547127.46438364  247032.84559761 1022333.00298265\n",
      "   153039.07459016  364712.32134447  470973.32733094  381655.9909572\n",
      "  1307691.88614664  604186.7049498   911391.41717596]]\n"
     ]
    }
   ],
   "source": [
    "ThetaTraining2, CostTraining2 = linear_regression(XTrain, YTrain, alpha2, iterations)\n",
    "print('Final value of theta with an alpha of ', alpha2,' =', ThetaTraining2)\n",
    "CostTraining2 = list(CostTraining2)\n",
    "nIterations_Training2 = [x for x in range(1,(iterations + 1))]"
   ]
  },
  {
   "cell_type": "code",
   "execution_count": 36,
   "id": "713b06d0-cbd1-4472-a5a9-76f8fed57704",
   "metadata": {},
   "outputs": [
    {
     "name": "stdout",
     "output_type": "stream",
     "text": [
      "Final value of theta with an alpha of  0.1  = [[3665283.80998753  741402.85068115  264657.01674763  992948.00356364\n",
      "   305680.32344454  126509.594599    265573.12956302   96887.61766261\n",
      "  1318395.63714537  574221.3020385   498783.75949985]]\n"
     ]
    }
   ],
   "source": [
    "theta_Test, cost_Test = linear_regression(XTest, YTest, alpha, iterations)\n",
    "print('Final value of theta with an alpha of ', alpha,' =', theta_Test)\n",
    "cost_Test = list(cost_Test)\n",
    "nIterations_Test = [x for x in range(1,(iterations + 1))]"
   ]
  },
  {
   "cell_type": "code",
   "execution_count": 37,
   "id": "490e7124-ff1d-4dfb-98fd-535b6faae2ae",
   "metadata": {},
   "outputs": [
    {
     "name": "stdout",
     "output_type": "stream",
     "text": [
      "Final value of theta with an alpha of  0.01  = [[3211733.75281949  791345.02851107  162838.95231366 1164613.49088194\n",
      "    51779.18076014  239993.96046932  566736.95476624  137642.82043416\n",
      "  1204854.90843431  783960.095531    689075.93949973]]\n"
     ]
    }
   ],
   "source": [
    "theta_Test2, cost_Test2 = linear_regression(XTest, YTest, alpha2, iterations)\n",
    "print('Final value of theta with an alpha of ', alpha2,' =', theta_Test2)\n",
    "cost_Test2 = list(cost_Test2)\n",
    "nIterations_Test2 = [x for x in range(1,(iterations + 1))]"
   ]
  },
  {
   "cell_type": "code",
   "execution_count": 39,
   "id": "0e7301c0-7528-4a79-845e-bc1152440f34",
   "metadata": {
    "scrolled": true
   },
   "outputs": [
    {
     "data": {
      "text/plain": [
       "Text(0.5, 1.0, 'Convergence of gradient descent')"
      ]
     },
     "execution_count": 39,
     "metadata": {},
     "output_type": "execute_result"
    },
    {
     "data": {
      "image/png": "[encoded data removed]",
      "text/plain": [
       "<Figure size 720x432 with 1 Axes>"
      ]
     },
     "metadata": {
      "needs_background": "light"
     },
     "output_type": "display_data"
    }
   ],
   "source": [
    "plt.plot(nIterations_Test, cost_Test, label='Test set Alpha 0.1')\n",
    "plt.plot(nIterations_Test2, cost_Test2, label='Test set Alpha 0.01')\n",
    "plt.plot(nIterations_Training, CostTraining, label='Traing set Alpha 0.1')\n",
    "plt.plot(nIterations_Training2, CostTraining2, label='Traing set Alpha 0.01')\n",
    "plt.legend()\n",
    "plt.rcParams[\"figure.figsize\"]=(10,6)\n",
    "plt.grid()\n",
    "plt.xlabel('No. of iterations')\n",
    "plt.ylabel('Cost')\n",
    "plt.title('Convergence of gradient descent')"
   ]
  },
  {
   "cell_type": "code",
   "execution_count": null,
   "id": "db15d253",
   "metadata": {},
   "outputs": [],
   "source": []
  }
 ],
 "metadata": {
  "kernelspec": {
   "display_name": "Python 3",
   "language": "python",
   "name": "python3"
  },
  "language_info": {
   "codemirror_mode": {
    "name": "ipython",
    "version": 3
   },
   "file_extension": ".py",
   "mimetype": "text/x-python",
   "name": "python",
   "nbconvert_exporter": "python",
   "pygments_lexer": "ipython3",
   "version": "3.8.8"
  }
 },
 "nbformat": 4,
 "nbformat_minor": 5
}
